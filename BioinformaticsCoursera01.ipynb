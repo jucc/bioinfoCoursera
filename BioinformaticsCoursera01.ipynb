{
 "cells": [
  {
   "cell_type": "markdown",
   "metadata": {},
   "source": [
    "# Finding Hidden Messages in DNA (Bioinformatics I)"
   ]
  },
  {
   "cell_type": "markdown",
   "metadata": {},
   "source": [
    "## Where does replication begin in the DNA?"
   ]
  },
  {
   "cell_type": "markdown",
   "metadata": {},
   "source": [
    "### Replication origin\n",
    "\n",
    "* Replication begins in a genomic region called the replication origin (denoted ***ori***) and is carried out by molecular copy machines called **DNA polymerases**.\n",
    "\n",
    "* The idea of gene therapy is to intentionally infect a patient who lacks a crucial gene with a viral vector containing an artificial gene that encodes a therapeutic protein. Once inside the cell, the vector replicates and eventually produces many copies of the therapeutic protein, which in turn treats the patient’s disease. To ensure that the vector actually replicates inside the cell, biologists must know where ori is in the vector’s genome and ensure that the genetic manipulations that they perform do not affect it.\n",
    "\n",
    "* Research has shown that the region of the bacterial genome encoding ori is typically a few hundred nucleotides long. \n",
    "\n",
    "* The initiation of replication is mediated by **DnaA**, a protein that binds to a short segment *within the ori* known as a **DnaA box**. \n",
    "\n",
    "### Looking for most frequent k-mers\n",
    "\n",
    "* How to find the hidden message, the DnaA box? We have added reason to *look for frequent words in the ori* because certain proteins can only bind to DNA if a specific string of nucleotides is present, and if there are more occurrences of the string, then it is more likely that binding will successfully occur.\n",
    "\n",
    "* We will use the term ***k-mer*** to refer to a string of length k and define Count(Text, Pattern) as the number of times that a k-mer Pattern appears as a substring of Text."
   ]
  },
  {
   "cell_type": "code",
   "execution_count": 1,
   "metadata": {
    "collapsed": false
   },
   "outputs": [],
   "source": [
    "def allKmersFromText(text, k):\n",
    "    \"\"\"\n",
    "    Returns a list with all k-mers (strings with length k) in the text (including repetitions)\n",
    "    \"\"\"\n",
    "    return [ text[i:i+k] for i in range ( len(text) - k + 1 ) ]\n",
    "\n",
    "# This function is for code challenge only. It is obsolete and redefined ahead\n",
    "def patternCount(text, pattern):\n",
    "    \"\"\"\n",
    "    Counts how many occurences of pattern exist in the text\n",
    "    \"\"\"\n",
    "    k = len(pattern)\n",
    "    count = 0\n",
    "    for word in allKmersFromText(text, k):\n",
    "        if word == pattern:\n",
    "            count = count + 1\n",
    "    return count"
   ]
  },
  {
   "cell_type": "code",
   "execution_count": null,
   "metadata": {
    "collapsed": true
   },
   "outputs": [],
   "source": [
    "# Code challenge\n",
    "\n",
    "text = \"GGTGATTGACGATTGACGGAATTGACGACTATTGACGCGCATTGACGGATTGACGGAATTGACGTATCATTGACGTGATTGACGCATTGACGGCATTGACGAATTGACGACCATTGACGATTGACGGTTGATTGACGAAATTGACGATTGACGGGACCACATTGACGATTGACGGGATTGACGATTGACGATTGACGACATGCCACATTGACGCAGTTATGATTGACGTACTATTGACGGATTGACGATTGACGCCATAGATTGACGGTGATTGACGATTGACGATTGACGATTGACGCAGATCTATTGACGTATTGACGGTAATTGACGCACTTTCGATAATTGACGTTAATTGACGATTGACGGCATTGACGATTGACGCAATTGACGATTGACGTAATTGACGTGTATTGACGTGTATTGACGAGTTTACAATTGACGCATTGACGTATTGACGGATTGACGTTGTATTGTGAGCATTGACGTATTGACGAGCCCATTGACGGATTGACGGAGGATTGACGATTGACGATTGACGATTGACGATTGACGATTGACGATTGACGTTATCGATTGACGGATTGACGATTGACGTATTGACGAATTGACGAGCAAACGCCATTGACGGATTGACGATTGACGTATTGACGCATTGACGGACATGATTGACGGCGATTGACGGCAATTGACGAATTGACGGTATTGACGATTGACGATTGACGCCTATTGACGGATTGACGATTGACGATTGACGTGATTATTGACGTATTGACGCTTGTCAAATTGACGATTGACGATGGATTGACGTGGAATTGACGGATTGACGCCAGATTGACGGCAGAGCAGATTGACGGCATTGACGCTGCCATTGACGGACATTGACGATTGACGAGATAGAGTACTCAACAATTGACGCATTGACGCACCAATTGACGACGTATGATTGACGATTGACGGATTGACG\"\n",
    "pattern = \"ATTGACGAT\"\n",
    "patternCount(text, pattern)"
   ]
  },
  {
   "cell_type": "markdown",
   "metadata": {},
   "source": [
    "A straightforward algorithm for finding the *most frequent k-mers* in a string Text checks all k-mers appearing in this string (there are |Text| − k + 1 such k-mers) and then computes how many times each k-mer appears in Text."
   ]
  },
  {
   "cell_type": "code",
   "execution_count": 2,
   "metadata": {
    "collapsed": false
   },
   "outputs": [],
   "source": [
    "#uses allKmersFromText defined above\n",
    "\n",
    "def kmersFrequency(text, k):\n",
    "    \"\"\"\n",
    "    creates a dictionary with the frequency of each k-mer in the text\n",
    "    \"\"\"\n",
    "    freqs = {}\n",
    "    for kmer in allKmersFromText(text, k):\n",
    "        if kmer in freqs:\n",
    "            freqs[kmer] += 1\n",
    "        else:\n",
    "            freqs[kmer] = 1\n",
    "    return freqs\n",
    "\n",
    "\n",
    "def patternCount(text, pattern):\n",
    "    \"\"\"\n",
    "    Counts how many times a k-mer pattern appears in the text\n",
    "    \"\"\"\n",
    "    return kmersFrequency(text, len(pattern))[pattern]\n",
    "    \n",
    "\n",
    "def mostFrequentKmers(text, k):\n",
    "    \"\"\"\n",
    "    returns a list with the k-mers with the highest frequency n the text\n",
    "    \"\"\"\n",
    "    freqs = kmersFrequency(text, k)\n",
    "    maxFreq = max(freqs.values())\n",
    "    return [k for k,v in freqs.items() if v == maxFreq]      \n",
    "            "
   ]
  },
  {
   "cell_type": "code",
   "execution_count": null,
   "metadata": {
    "collapsed": true
   },
   "outputs": [],
   "source": [
    "# Code challenge \n",
    "\n",
    "text = \"aactctatacctcctttttgtcgaatttgtgtgatttatagagaaaatcttattaactgaaactaaaatggtaggtttggtggtaggttttgtgtacattttgtagtatctgatttttaattacataccgtatattgtattaaattgacgaacaattgcatggaattgaatatatgcaaaacaaacctaccaccaaactctgtattgaccattttaggacaacttcagggtggtaggtttctgaagctctcatcaatagactattttagtctttacaaacaatattaccgttcagattcaagattctacaacgctgttttaatgggcgttgcagaaaacttaccacctaaaatccagtatccaagccgatttcagagaaacctaccacttacctaccacttacctaccacccgggtggtaagttgcagacattattaaaaacctcatcagaagcttgttcaaaaatttcaatactcgaaacctaccacctgcgtcccctattatttactactactaataatagcagtataattgatctga\"\n",
    "k = 9\n",
    "#print \"Frequency of k-mers:\"\n",
    "#print kmersFrequency(text, k)\n",
    "#print \"\"\n",
    "print \"Most frequent k-mers:\"\n",
    "print mostFrequentKmers(text, k)"
   ]
  },
  {
   "cell_type": "markdown",
   "metadata": {
    "collapsed": true
   },
   "source": [
    "### Reverse complement of a string\n",
    "\n",
    "*  The beginning and end of a DNA strand are denoted 5’ (pronounced “five prime”) and 3’ (pronounced “three prime”), respectively. The complementary strand runs in the opposite direction to the template strand. That is called the reverse complement."
   ]
  },
  {
   "cell_type": "code",
   "execution_count": 5,
   "metadata": {
    "collapsed": false
   },
   "outputs": [],
   "source": [
    "comp = { 'A':'T', 'T':'A', 'C':'G', 'G':'C', 'a':'t', 't':'a', 'c':'g', 'g':'c' }\n",
    "\n",
    "def complement(pattern):\n",
    "    \"\"\" \n",
    "    Finds the complement of a pattern, formed by taking the complement of each nucleotide\n",
    "    \"\"\"\n",
    "    return ''.join(comp[c] for c in pattern)\n",
    "    \n",
    "def reverseComplement(pattern):\n",
    "    \"\"\" \n",
    "    Finds the reverse complement of a pattern, formed by taking the complement of each nucleotide, \n",
    "    then reversing the resulting string\n",
    "    \"\"\"\n",
    "    return complement(pattern)[::-1]"
   ]
  },
  {
   "cell_type": "code",
   "execution_count": null,
   "metadata": {
    "collapsed": true
   },
   "outputs": [],
   "source": [
    "# code challenge 1.3.2\n",
    "    \n",
    "pattern = \"TCTTGATCA\"\n",
    "print reverseComplement(pattern)"
   ]
  },
  {
   "cell_type": "code",
   "execution_count": 6,
   "metadata": {
    "collapsed": false
   },
   "outputs": [
    {
     "name": "stdout",
     "output_type": "stream",
     "text": [
      "55 75 82 109 127 134 141 157 164 171 178 193 273 407 432 439 457 541 548 572 579 623 640 665 763 790 807 814 870 906 942 1024 1093 1141 1184 1191 1226 1249 1275 1293 1300 1307 1327 1342 1361 1383 1422 1429 1445 1479 1497 1521 1591 1639 1665 1681 1700 1738 1754 1761 1768 1879 1959 1997 2014 2021 2129 2141 2148 2231 2265 2272 2279 2286 2302 2365 2416 2434 2517 2524 2561 2621 2637 2644 2651 2699 2724 2830 2874 2881 2888 2895 2902 2909 2957 2973 3015 3052 3132 3267 3304 3340 3392 3407 3470 3486 3550 3580 3656 3663 3670 3731 3767 3784 3791 3798 3912 3941 3956 3968 4079 4086 4093 4111 4145 4170 4223 4230 4399 4406 4441 4466 4567 4645 4665 4702 4800 4807 4822 4838 4858 4873 4938 4970 4977 4984 5001 5037 5044 5061 5109 5116 5177 5193 5227 5265 5285 5300 5324 5333 5375 5429 5456 5471 5478 5544 5646 5653 5688 5713 5766 5833 5840 5892 5947 5963 6022 6055 6115 6135 6153 6177 6201 6238 6275 6328 6361 6403 6444 6494 6512 6539 6546 6583 6601 6608 6615 6622 6687 6694 6725 6752 6759 6766 6829 6981 7007 7014 7041 7084 7120 7127 7134 7171 7219 7265 7325 7342 7412 7431 7449 7482 7532 7539 7572 7584 7591 7629 7636 7773 7826 7833 7860 7903 7910 7926 7941 7968 7978 7985 8006 8045 8052 8059 8066 8101 8108 8123 8141 8176 8216 8347 8428 8435 8462 8484 8507 8529 8570 8600 8617 8635 8653 8691 8698 8705 8797 8812 8831 8838 8845 8852 8880 8904 8968 9055 9080 9087 9124 9149 9156 9163 9200 9215 9222 9238 9284 9332 9382 9421 9428 9447 9520 9582 9589 9669 9686 9715 9722 9788 9798 9805 9812 \n",
      "60039 98409 129189 152283 152354 152411 163207 197028 200160 357976 376771 392723 532935 600085 622755 1065555 \n"
     ]
    }
   ],
   "source": [
    "def patternMatch(pattern, genome):\n",
    "    \"returns the starting indices of all occurrences of pattern in genome\"\n",
    "    index = 0\n",
    "    matches = []\n",
    "    for word in allKmersFromText(genome, len(pattern)):\n",
    "        if word == pattern:\n",
    "            matches.append(index)\n",
    "        index += 1\n",
    "    return matches\n",
    "\n",
    "# code challenge 1.3.5\n",
    "\n",
    "pattern = \"CGTATTTCG\"\n",
    "genome = \"GCTGTCCATCGTATTTCCGTATTTTCTCGTATTTTACGTATTTCCCTCGTATTTCCGTATTTCGTATTTCTCCAACGTATTTCGTATTTCGTATTTTCCGTATTTGTTTCGTATTTCGTATTTGGACCGTATTTCGTATTTCGTATTTCGTATTTCTCGTATTTCGTATTTCGTATTTCGTATTTCGTATTTTCGTATTTCGTATTTTGTTCCCGTATTTGGCGACGTATTTTCCCCGTATTTCCGCGTATTTCACGTATTTACCGTATTTCTCGTATTTCGTATTTGCGTATTTAGCGTATTTGTGACGTATTTGGCGTATTTAGCAGCGTATTTGTACGGATAACGTATTTTGCGTATTTGTTTTCCGTATTTCCGTATTTCAACGTATTTCCCTCGTATTTTTCCGTATTTCGCGTATTTCCGTATTTTCGTATTTCGTATTTCGTATTTAGACCGTATTTCGTATTTACCGTATTTGACGTGCAGCTCCGTATTTGACCGTATTTAATTTAGCGTATTTGGACGAATGACGTATTTCCGTATTTCGTATTTCGTATTTCCCGTATTTCCGTATTTCGTATTTCGTATTTTGGAGTTGCGTATTTTCGTATTTCCACGAACGTATTTCGTATTTAAACGTATTTCGTATTTTCCCGTATTTTCGTATTTCGTATTTACCGTATTTATACGTATTTTCGTATTTTCCGTATTTCCGTATTTGATCGTATTTTCGGACGTATTTTCCCGGTCGTATTTCAATCGTATTTCGTATTTGGACGATTAAAGACGTATTTCGTATTTTCTCGTATTTCGTATTTCGTATTTACGTATTTCCGCTCCGTATTTTCGTATTTCCGTATTTTTACTCGTATTTCGTATTTACTGAAGTCGTATTTGAACAGTCGTATTTCGTATTTCTTCGTATTTGCGTATTTTCGTCGTATTTCGTATTTAATCGTATTTTCGTATTTGCGTATTTCCGTATTTATACTAAGACGTATTTACGTATTTACGTATTTGCCGTATTTCGTATTTCCTGACATTTATCTACGGCGTATTTTTGGTTGAAAGCCGTATTTCACGTATTTACCGTATTTCGTATTTGCGTATTTTAAAGACCGTATTTAACGGGGACGGGCGTATTTCGTCGTATTTGGCGTATTTACGTATTTGAATGACTCCGTATTTCGTATTTCGTATTTACGTATTTGATACGTATTTATCGTATTTCGTATTTCTGGCGGGGCGTATTTCGTATTTACCGTATTTCATCGTATTTCGTATTTCCGGCGTATTTCGTATTTCGTATTTCGCGTATTTCCGCCGTATTTCGTATTTTCGTATTTCGTATTTTGCACCGTATTTCGTATTTCAACTAGTCGTATTTCGTATTTGCCTATAGAATCCGTATTTACTCGACGTATTTCGTATTTCGTATTTGCCGTATTTCGACAAGTATCGCGTATTTACGAGTTACGTATTTCGTATTTGAGACGTATTTCGTATTTGAAGCAACTACGTATTTCGTATTTGCGTATTTCCTACGTATTTAGCGTATTTACGTATTTGCCCAACATACGTATTTTCACGTATTTCGTATTTTAGTAACGTATTTACGTATTTTACCGTATTTTTGCGTATTTCGTATTTTCGTATTTGTGACGTATTTCGTATTTGGCGTATTTCGTATTTAACCACGTATTTCGTATTTACAGGCGTATTTGCGTATTTTGGACGTATTTCGTATTTATCGTATTTCGTATTTCGTATTTCGTATTTGCGTATTTTCGTATTTCAGGACCGTATTTGCGTATTTACTTCGTATTTTCTGGTGGGCTGAGGCGTATTTAACGTATTTTTTATGCGTACGTATTTGCGTATTTCGTATTTTACGCGTATTTTTGTCGTATTTAGCATCGTATTTATTTTGGTCGTATTTCTCACGTATTTGACGCTCGTATTTCGTATTTACGTATTTCCCGCGTATTTGTCACCGTATTTCGTATTTAAACGTATTTCGTATTTCGTATTTACGTATTTTACTCGTATTTACTATGCGTATTTGCGTATTTTCGTATTTTCCACGTATTTAGCCCGTATTTTGGGCAACGTATTTACGTATTTCCCGTATTTCGACGCGTATTTCGTATTTCGTATTTGACAATAGCGTATTTCCTCGTATTTAGCGTATTTTACTACGTATTTTTACGGGCGTATTTTCGTATTTACGTATTTCGTATTTTAGATTCGTATTTTATCACACGTATTTCGTATTTCGTATTTCGTATTTCGTATTTGGCGTATTTCGTATTTTAGGGGATCGTATTTTGCACGTATTTGGTCGTATTTGTGGCGTATTTGGCGTATTTCGTATTTTGCCATGCGTATTTGGCGTATTTCCGTATTTAAGTGCCGTATTTCGTATTTAATCCGTATTTCGTATTTAGCACGTCCGTATTTAGCCGTATTTCCGTATTTGTTCGTATTTCAGCGTATTTGGGATCGTATTTAACGCGTATTTCGTATTTCGTATTTCCGCGTATTTGCGTATTTTTTAGCGTATTTCGTATTTACGTATTTGGTTCGTATTTCTATGCTCTGAAACGTATTTAGTCCCCCGTATTTCGTATTTACCGTATTTCGTATTTCGTATTTCGTATTTACGTATTTGATGCGTATTTTGACGTATTTTCACCCGTATTTCGTATTTTGGAACCTACACGTATTTCGTATTTCTCGTATTTAGCACGTATTTAATCGTATTTACGTATTTGACGTATTTCCGTATTTCTGCGGCGTATTTGACTCGTATTTTTGGTCGTATTTCCGTATTTCGTATTTCAGCCTTGAGGATTACGGCCTTCGTATTTCCGTATTTCGTATTTCGTATTTCGTATTTCGTATTTCGTATTTCGTATTTGACCGTATTTCCGTATTTTGCCGTATTTCCCTTGCGTATTTCGTATTTTGCGTATTTCGTATTTTCGTATTTCCGTATTTACCGTATTTCTTCGTATTTCGTATTTGCCCGTATTTGCCGTATTTGGCACGTATTTCGTATTTATCGTATTTTCGTATTTTGCGTATTTACGTATTTGGACGTATTTTCCAGTTGATCGTATTTCTTGGCGTATTTCGTATTTTCGTATTTGGCTACCGTATTTGGCGTATTTGCGGATCGTATTTTTACTCGTATTTGCCGTATTTTACGTAGCGTATTTGGCGTATTTTACTAAGCGTCGTATTTAACGTATTTGGCGCACACGTATTTCGTATTTACGTATTTACTCTCGTATTTTGGCGTATTTCGTATTTTCGTATTTCAGACGCGTATTTGCGTATTTCGTATTTTCGTATTTCCGTATTTTGCGGGTATCGTATTTCAGGAACGTATTTCGTATTTACGTATTTCGTATTTCAGCCAGTCCGTATTTTTCGTATTTGACGTATTTTCCGTATTTAGTCGGCGTATTTCGTATTTTACGTATTTCGTATTTAACGTATTTTCCCGTATTTTCAAAGGCAAAGGGCGTTCACGTATTTTGAGCGTATTTCGTATTTGCCGTACGTATTTGAGCGTATTTCGCAGCCGTATTTGGCGTATTTTCCGTATTTTAGTCGTATTTCTCGGCGTATTTCACCAAGCGTATTTACGTATTTCGTATTTCGTATTTCGTATTTGCGTATTTTTCGTATTTCCCAACAGACGTATTTCCGTATTTCAATTCCGTATTTCGTATTTTGACACGTATTTGTCGTATTTACGTATTTCGTATTTTATCGTATTTCGTATTTCGTATTTCGTATTTCTCTCACGTATTTAACAAAACCGTATTTTACTCGTATTTGAACGTATTTGCGTATTTTATAACGTATTTGTAACGTATTTAGTTTTTCGTATTTCCGCACCGTATTTCGCAAGACCGTATTTGGGAGCCCGTATTTCGTATTTTCGTATTTCGCCGCGTATTTCGTATTTTAGCGTATTTGACGTATTTCCACGTATTTTGGGGCGTATTTGCGTATTTGTTGGCCGTATTTACGTATTTAACACAGCCGTATTTTCGTATTTACCGCGTATTTCGTATTTCGTATTTCGTATTTTATGCGTATTTCGTATTTCACGTATTTCCGTATTTTTACGTATTTCGTATTTAGTCCGGATTTCGTATTTCGTATTTGTGCGTATTTAAGGTGGATCGTATTTTCCGGCGTATTTGCGTATTTCGTATTTCGTATTTGCGTATTTGGAGAACGTATTTCCTCGTATTTAAACGTATTTAGCCGTATTTACGTATTTGCTTCGTATTTGAACGTATTTACCGTATTTGTTGCGTATTTACGTATTTTTATCCTTCGGTGCGTATTTGGTTTGGTCCACCGATACATTGAATGACGTATTTCGTATTTCGTATTTACGTATTTACGTATTTTTCCACGTATTTCGTATTTGCGTATTTATTCGTATTTCGTATTTGCTCGTATTTATGTATAACGTATTTTAACGTATTTGCGTATTTGCGTATTTATCTCCGTATTTCCGTATTTATACGTATTTTCTATTCGTATTTCGTATTTCTACCAGGACGTATTTCTCGTATTTAAGCGTATTTCCGTATTTGCGTATTTGGACGTATTTGCCCGTATTTCGGAAGATATTCCCGTATTTCGTATTTAATGTCGAGCAGTCGTATTTAATCGTATTTCGTATTTATCGTATTTGTGGACGTATTTGCAACGTATTTACCGTATTTCTCGTATTTACCACCCGTATTTTCCCGTATTTCCGTATTTAGGCGTATTTCGTATTTCGTATTTTCGTATTTCGTATTTTCCGTATTTCGTATTTAGATTACGTATTTCGTATTTCCGTATTTCGTATTTTCGTATTTCTAGCGTATTTACGTATTTAAAGCGTATTTAGCCGTATTTGTCCGTATTTCGTATTTGCGTATTTAAAAGTACGTCGTATTTCGTATTTCGTATTTCGTATTTGGTCGTATTTCGTATTTAACGTATTTAACTCGTATTTACCGTATTTCGTATTTCGTATTTGGACGTATTTCGTATTTTCAGCCGTATTTATGCGTATTTTCGTATTTGGGACGTATTTCGTATTTCGTATTTCATTAACGTATTTGCATGGTTAGTTCCCCGTATTTATCGACTAGGAACGTATTTCGTATTTTTCGTATTTCGTATTTGACGTATTTACGTATTTGGACGTATTTCGTATTTACGTATTTTCCACCGTATTTTCACCGTATTTCGTATTTCTGGCGCGTATTTCGTATTTACGTATTTCGTATTTGCGTATTTTTCGTATTTCGCGTATTTCGTCGTATTTTCCGACTTCGTATTTACCAGTCATGCGTATTTCGTATTTACTGGGCGTATTTGCGTATTTGATTTGCGTTACGTATTTGCGTATTTCGTATTTAATCCGTATTTGCCGTATTTCGTATTTACGTATTTCGTATTTCGTATTTACGTATTTCACACGTATTTCCTTCGTATTTTCAGGAGGGTCGTATTTATTATCGTATTTCGTATTTTCGTATTTCTATCCGTATTTGAGTCGTATTTACGTATTTGTCGTATTTATCACGTATTTGCCGTATTTACCGTATTTGCACGTATTTTCGTATTTCGTATTTCGTATTTCCGCGAACGTATTTTAGGATACGTATTTCGTATTTCAGCGTATTTGCGTATTTCGTATTTAATTCCGTATTTAGGGGCGTATTTAGCAGACCGTATTTCCGTATTTCGTATTTAGGACGTATTTCCCGTATTTTCGGCGTATTTGCGTATTTTGCGTATTTTGGGTCGTATTTCGTATTTCGTATTTACACGTATTTAGTCGTATTTGTCGTATTTAAAGATAAGCGTATTTCGTATTTTCGTATTTTCGGGACGTATTTCATGTCGTATTTAGATTGGGCGTATTTCGTATTTCCCGTATTTCGTATTTGTTCATTCGTATTTTACCGTATTTTCGTATTTTCACGTATTTGAGCGTATTTCGTATTTAAGCTTCGTATTTCTTAGGCGTATTTCGTATTTCTAAGCGTATTTTCGTATTTCCGTATTTTGGACACGTATTTGGTTGCGTATTTCGTATTTTGCCGGCGTATTTCGTATTTACGTCGTATTTCGTATTTCCGTATTTCACGTATTTCGACTCGTCGTATTTACCGTATTTCGTATTTTGCGTATTTTCGTATTTGGTGGTCGTATTTCGCGTATTTCAAGCTCCTCGTATTTCACACCGTATTTCGTATTTAGCCCGCATCGTATTTCAGCGTATTTCTCGTCGTATTTTCGTATTTCGTATTTGGCGTATTTTACGTATTTACGTATTTCGTATTTCCGTATTTTCGTATTTGTCGTATTTTGACGTATTTCGTATTTGAACCGTCGTATTTACGTATGCTTCTGCGTATTTCGTATTTGGCGTATTTGGCGACGTATTTTACGTATTTATGGTGCGTATTTCGTATTTTTTACGTATTTCGTATTTCCCGTATTTACGCCGTATTTCGTATTTCGTATTTTTTCGTATTTGAAGCCGTATTTTCGTATTTCGTATTTTCCCCGTATTTCGTATTTCGTATTTCGTATTTCGTATTTAAGACGTATTTACGTATTTCCTATCGTATTTCCGTATTTCCGTATTTGGATCGTATTTCGTATTTCGTATTTAAAACGTATTTCTGAAACGTATTTCGTATTTTGTCACGTATTTCCGTATTTCGTATTTCGTATTTCGTATTTCCGTATTTATCTATCTGATAACGTATTTTCGTATTTTAGCACGTATTTGCGTATTTCGTATTTTGGCTCGTATTTTTTAGGGACGTATTTCCGTATTTACTAGAAGTTGCGTATTTGCGTATTTAGATTAACTAGACTACGGTGCGTATTTCCGTATTTTAATAAGACGTTGGGACCGCCACGTATTTCATCCGTATTTACCGTATTTCGTATTTAGTTCGTATTTTCGTATTTCGTATTTCGTATTTTGTTACGTATTTGCGTATTTCGTATTTGGAGAAACGTATTTCTACGCGTATTTAGACGTATTTCGTATTTAATCGTATTTTCTCTCACTCCGCGTATTTCGTATTTCGTATTTCGCGTATTTCTTCGTATTTACGTATTTAGTCGTATTTCGTATTTTTCTTCGTATTTAGGCTGCGTATTTTCGTATTTCCGTATTTCGTATTTCTGCGTATTTCTATTTTTCGTATTTGCAAAGTCGTATTTCGTATTTAAGAGCCGTATTTGGCGTATTTACCCGTATTTTTTCCTCGTATTTTCGTATTTCGTATTTTGGCGTATTTCGTATTTCCCGTATTTGAAACGTATTTTTACATGGCCGTATTTGCGTATTTTCGTATTTATTGCGTATTTCGTATTTCAGGTCGTATTTCGTATTTGAGACGTATTTCGTATTTGCCGTATTTACCTCCTTCGCGTATTTCGTATTTGTCGGGCGTATTTTTATCGTATTTCTCGCGTATTTGCGTATTTCGTATTTCGTATTTTGCTCCTTTTCGTATTTGACGTATTTCGACACGTATTTCGTATTTCGTATTTGCACCGTATTTAATATACGCGTGACGTATTTCGTATTTCGTATTTTCGTATTTGTCGACGTATTTATCGTATTTTTACGTATTTTCGTATTTGTTCGTATTTATCTCCGCCCGTATTTACGTATTTCTACGTATTTGCGTATTTAGGTCGTATTTTGTCGTATTTGAGCGTATTTCGTATTTACGTATTTACGTATTTTACGTATTTTATCGCGTATTTAACGTATTTCGTATTTCGTATTTGGTACGTATTTGACGTATTTCGTATTTGACGTATTTCCGTATTTACTCCGTATTTACGTATTTCGTATTTCGTATTTGTCGTATTTCGTATTTCCGTATTTCGTATTTGGCCACGTATTTCCGTATTTCGACGTATTTCGTATTTCGTATTTATGCTATCGTATTTCGTATTTGCGTATTTAGCGTATTTCAAATACGCGTATTTCGTATTTCGTATTTCGTATTTCGTATTTTCATCTGAAGCGTATTTCCAACGTATTTCGTATTTCGTATTTCCGTATTTCGTATTTAGCACGTATTTCGTATTTTGGCGTATCTAATCGTATTTTCGTATTTCGTATTTAACGTATTTCACGGGCCCGTATTTTCCGTATTTCGTATTTAGGTAGCGCGTATTTACGTATTTACGTCGTATTTCACGTATTTTACGTATTTTTTTTTACGTATTTGCGCCGTATTTAAAGTCGTATTTCCCCGTATTTCACGTACTCGTATTTGTCCGTATTTCGTATTTCCGTATTTGCGTATTTTTAACCGTATTTGAACGTATTTCTCGCCACGACGCCTACGTATTTGAACCACGTATTTCGTATTTCGTATTTCCGTATTTTGGGGCGTATTTCGTATTTATTGGGGACGTATTTCGTATTTAAAGCTATCCGTATTTCGTATTTATGGTCAGCGTATTTCGTATTTGCGTATTTGCATCGTATTTCTAAGCCACGTATTTCGTATTTTTTCGTATTTAATGTACGTATTTCGTATTTGTGCGTATTTCGTATTTGGTACGTATTTCGTATTTCCGTCGTATTTCGTATTTTCCGTATTTAATCGTATTTAGAAACGTATTTCGTATTTCGTATTTCGTATTTACGTATTTTTCAGGCGTATTTAAAGCGTATTTGTTACGTATTTTCGTATTTGTAACCCCTACGTACGTATTTGATTACCGTATTTCGTATTTGCGTATTTCGTATTTATAATCGTATTTCGTATTTCGTATTTCGTATTTCGTATTTCACGTATTTTCAGACGTATTTCGTATTTACCGTATTTCCGTATTTCGTATTTCCGTATTTCCGCGTATTTGTCGTATTTGTACGTATTTGACCCCGTATTTTCGTATTTCGTATTTGCCGTATTTTGGCGTATTTTCACGTATTTTCGTATTTTCGTATTTAATACGTATTTCCGTATTTTCGTATTTGCGTATTTCGTATTTATACGTATTTCCGTATTTCGTATTTCGTATTTGTCTATCCGTATTTGCGTATTTCCGTATTTCGGCGTATTTTTCATAAACGTATTTCGTATTTCGTATTTCGTATTTCTACGCGTATTTCCCGTATTTTTCGTATTTCGTATTTGCGTATTTCGTATTTCGTATTTGCCGTATTTCGTATTTCCGTATTTTCCCGTATTTTTGCGTATTTTACCCGTATTTCGTATTTCCCAGCGTATTTACGTATTTTCCGTATTTAGGAGCGTATTTCGAACGTATTTGGGTCGTATTTACGTATTTTAGATCTAAGATCCGTATTTCGTATTTCTCGTATTTTGAGCGTATTTTGGGACGTATTTCGTATTTCGCGTATTTAGCCGTATTTCGTATTTTCGTATTTGCGTATTTCCGTATTTGTATCGTATTTCTAGATCGGCCGTATTTTACACCCCGTATTTCGTATTTAACGTATTTAGACCCGTATTTACTGACTCGTATTTGCTCGTATTTTGACGTATTTCGTATTTCGTATTTGTTCGTATTTGAACGTATTTTAACGTATTTATCGTATTTTGCGTATTTTATATCGTATTTAGCCTCCGTATTTCGTATTTCTTCGTATTTCGTAATCGTATTTCTGCTGATTCGTATTTCGTATTTCGGATAACGTATTTCCGTATTTGAGCGTATTTCCGTATTTTCGTATTTCTCGTATTTGCCGTATTTCGACGTATTTCGTATTTCGTATTTCGTATTTGCGTATTT\"\n",
    "for i in patternMatch(pattern, genome):\n",
    "    print i,\n",
    "print \"\"\n",
    "\n",
    "#code challenge 1.3.6\n",
    "\n",
    "file = open('datasets/Vibrio_cholerae.txt', 'rb')\n",
    "genome = file.read()\n",
    "file.close()\n",
    "\n",
    "pattern=\"CTTGATCAT\"\n",
    "for i in patternMatch(pattern, genome):\n",
    "    print i,\n",
    "print \"\""
   ]
  },
  {
   "cell_type": "markdown",
   "metadata": {
    "collapsed": false
   },
   "source": [
    "Clump finding algorithm"
   ]
  },
  {
   "cell_type": "code",
   "execution_count": 7,
   "metadata": {
    "collapsed": false
   },
   "outputs": [],
   "source": [
    "def slide(window, freqs, k):\n",
    "    \"\"\"\n",
    "    Slides the window by removing the first k-mer from the left and adding a new\n",
    "    k-mer with the new character added in the right.\n",
    "    Returns the included k-mer and the freqs dictionary is updated accordingly\n",
    "    Attention: The input window must start in the previous position (before sliding)\n",
    "    and finish in the new (after sliding) position, thus, its len is L+1\n",
    "    \"\"\"\n",
    "    # one being excluded from the left...\n",
    "    kmerExclude = window[0:k]\n",
    "    freqs[kmerExclude] -= 1\n",
    "\n",
    "    # ...and one included in the right\n",
    "    kmerInclude = window[len(window)-k:len(window)]\n",
    "    if kmerInclude in freqs:\n",
    "        freqs[kmerInclude] += 1\n",
    "    else:\n",
    "        freqs[kmerInclude] = 1\n",
    "    return kmerInclude\n",
    "\n",
    "\n",
    "def findClumps(genome, k, L, t):\n",
    "    \"\"\"\n",
    "    Finds which k-mers appear at least t times in any window of lenght L inside\n",
    "    the genome text\n",
    "    \"\"\"\n",
    "    # figures out the clumps and freqs in the initial window\n",
    "    freqs = kmersFrequency(genome[0:L], k)\n",
    "    clumps = filter(lambda kmer: freqs[kmer] >= t, freqs)\n",
    "\n",
    "    # slides the window and checks if the new kmer in the right forms a clump\n",
    "    for window in range(len(genome) - L + 1):\n",
    "        kmer = slide(genome[window:window+L], freqs, k)\n",
    "        if freqs[kmer] >= t:\n",
    "            clumps.append(kmer)\n",
    "            \n",
    "    #remove duplicates    \n",
    "    return sorted(set(clumps), key=lambda x: clumps.index(x))"
   ]
  },
  {
   "cell_type": "code",
   "execution_count": 73,
   "metadata": {
    "collapsed": false
   },
   "outputs": [
    {
     "name": "stdout",
     "output_type": "stream",
     "text": [
      "9414\n",
      "CCAAGATTC GGTTGCCGG ACTCATACT GTGATGTCT GAAAGCATT CCTGCGGAA AGGCCAGAG ATCTATCTC CATTATACG GCAATAAAC\n"
     ]
    }
   ],
   "source": [
    "# Code challenge 1.4.5 \n",
    "k = 9\n",
    "L = 589\n",
    "t = 19\n",
    "file = open('datasets/dataset_4_5.txt', 'rb')\n",
    "genome = file.read()\n",
    "file.close()\n",
    "print len(genome)\n",
    "for i in findClumps(genome, k, L, t):\n",
    "    print i,"
   ]
  },
  {
   "cell_type": "code",
   "execution_count": 80,
   "metadata": {
    "collapsed": true
   },
   "outputs": [],
   "source": [
    "def patternToNumber(pattern):\n",
    "    \"\"\"\n",
    "    Converts a pattern (base 4 number where 0 = A, 1 = C, 2 = G, 3 = T) into a \n",
    "    base 10 number. \n",
    "    \"\"\"\n",
    "    base = { 'A':0, 'a':0, 'C':1, 'c':1, 'G':2, 'g':2, 'T':3, 't':3 }\n",
    "    exp = 0\n",
    "    number = 0\n",
    "\n",
    "    for ch in pattern[::-1]:\n",
    "        number += base[ch] * (4 ** exp)\n",
    "        exp += 1\n",
    "    return number\n",
    "\n",
    "\n",
    "def frequencyArray(text, k):\n",
    "    \"\"\"\n",
    "    This is not a memory efficient structure, as I had already defined a hash for\n",
    "    keeping the frequencies, but is required in the course\n",
    "    \"\"\"\n",
    "    freqArray = [0 for i in range(4**k)]\n",
    "        \n",
    "    freqs = kmersFrequency(text, k)\n",
    "    for f in freqs:\n",
    "        freqArray[patternToNumber(f)] = freqs[f]\n",
    "\n",
    "    return freqArray"
   ]
  },
  {
   "cell_type": "code",
   "execution_count": 77,
   "metadata": {
    "collapsed": false
   },
   "outputs": [
    {
     "data": {
      "text/plain": [
       "5437"
      ]
     },
     "execution_count": 77,
     "metadata": {},
     "output_type": "execute_result"
    }
   ],
   "source": [
    "patternToNumber('CCCATTC')"
   ]
  },
  {
   "cell_type": "code",
   "execution_count": null,
   "metadata": {
    "collapsed": true
   },
   "outputs": [],
   "source": []
  }
 ],
 "metadata": {
  "kernelspec": {
   "display_name": "Python 2",
   "language": "python",
   "name": "python2"
  },
  "language_info": {
   "codemirror_mode": {
    "name": "ipython",
    "version": 2
   },
   "file_extension": ".py",
   "mimetype": "text/x-python",
   "name": "python",
   "nbconvert_exporter": "python",
   "pygments_lexer": "ipython2",
   "version": "2.7.12"
  }
 },
 "nbformat": 4,
 "nbformat_minor": 1
}
